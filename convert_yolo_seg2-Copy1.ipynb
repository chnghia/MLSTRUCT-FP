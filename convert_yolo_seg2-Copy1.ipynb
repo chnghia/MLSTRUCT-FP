{
 "cells": [
  {
   "cell_type": "code",
   "execution_count": 1,
   "id": "33d91098-d62c-4c74-8c47-1d7791686778",
   "metadata": {},
   "outputs": [],
   "source": [
    "import os\n",
    "import yaml\n",
    "import shutil\n",
    "from pathlib import Path\n",
    "from tqdm import tqdm\n",
    "from PIL import Image\n",
    "\n",
    "# Giả định bạn đã cài đặt mlstruct-fp\n",
    "from MLStructFP.db import DbLoader\n",
    "from MLStructFP.utils import GeomPoint2D  # Import GeomPoint2D để biến đổi điểm"
   ]
  },
  {
   "cell_type": "code",
   "execution_count": 2,
   "id": "e7864e0e-12ff-4f91-a917-db6a9c435e6d",
   "metadata": {},
   "outputs": [],
   "source": [
    "# =================================================================================\n",
    "# --- 1. PHẦN CẤU HÌNH (VUI LÒNG CHỈNH SỬA) ---\n",
    "# =================================================================================\n",
    "\n",
    "# Đường dẫn tới file json của database\n",
    "DB_JSON_PATH = 'test/data/fp.json'\n",
    "\n",
    "# Thư mục gốc để tạo dataset YOLO mới\n",
    "# Script sẽ tự tạo cấu trúc: ./damage_dataset/images/ và ./damage_dataset/labels/\n",
    "OUTPUT_DATASET_DIR = 'damage_dataset'\n",
    "\n",
    "# Ánh xạ tên lớp sang chỉ số (integer).\n",
    "# TODO: Bạn cần có logic để gán lớp cho mỗi `rect`. \n",
    "# Ví dụ này tạm gán tất cả là lớp 'damage'.\n",
    "CLASS_MAP = {\n",
    "    'wall': 0,\n",
    "}"
   ]
  },
  {
   "cell_type": "code",
   "execution_count": 3,
   "id": "375afc3c-cb27-45ca-9d5d-62265ea4f80f",
   "metadata": {},
   "outputs": [
    {
     "name": "stdout",
     "output_type": "stream",
     "text": [
      "🚀 Bắt đầu tạo bộ dataset YOLO hoàn chỉnh...\n",
      "📁 Đã tạo cấu trúc thư mục tại: /mnt/c/Users/admin/source/repos/agent-proj/MLSTRUCT/MLSTRUCT-FP/damage_dataset\n",
      "🔎 Tìm thấy 8 bản vẽ (Floors) để xử lý.\n"
     ]
    }
   ],
   "source": [
    "\"\"\"\n",
    "Chuyển đổi dữ liệu từ DbLoader sang định dạng YOLO Segmentation,\n",
    "đồng thời sao chép file ảnh để tạo một bộ dataset hoàn chỉnh.\n",
    "\"\"\"\n",
    "print(\"🚀 Bắt đầu tạo bộ dataset YOLO hoàn chỉnh...\")\n",
    "\n",
    "# --- Thiết lập cấu trúc thư mục ---\n",
    "dataset_root = Path(OUTPUT_DATASET_DIR)\n",
    "images_dir = dataset_root / 'images'\n",
    "labels_dir = dataset_root / 'labels'\n",
    "images_dir.mkdir(parents=True, exist_ok=True)\n",
    "labels_dir.mkdir(parents=True, exist_ok=True)\n",
    "print(f\"📁 Đã tạo cấu trúc thư mục tại: {dataset_root.resolve()}\")\n",
    "\n",
    "# --- Khởi tạo DbLoader ---\n",
    "db = DbLoader(DB_JSON_PATH)\n",
    "db_base_path = Path(db.path)  # Đường dẫn gốc của file db.json\n",
    "floors = db.floors\n",
    "print(f\"🔎 Tìm thấy {len(floors)} bản vẽ (Floors) để xử lý.\")"
   ]
  },
  {
   "cell_type": "code",
   "execution_count": 15,
   "id": "d6c09352-57e5-4109-82ce-7ee633964d96",
   "metadata": {},
   "outputs": [
    {
     "name": "stdout",
     "output_type": "stream",
     "text": [
      "\n",
      "✅ Hoàn tất chuyển đổi và sao chép 8 ảnh.\n"
     ]
    }
   ],
   "source": [
    "# --- Bắt đầu xử lý ---\n",
    "for floor in floors:\n",
    "    \n",
    "    # 1. Xử lý đường dẫn ảnh\n",
    "    image_relative_path = floor.image_path\n",
    "    if not image_relative_path:\n",
    "        continue\n",
    "    source_image_path = db_base_path / image_relative_path\n",
    "    dest_image_path = images_dir / source_image_path.name\n",
    "    \n",
    "    # 2. Sao chép file ảnh vào thư mục dataset\n",
    "    if source_image_path.is_file():\n",
    "        shutil.copy(source_image_path, dest_image_path)\n",
    "    else:\n",
    "        print(f\"\\n⚠️ Cảnh báo: Bỏ qua vì không tìm thấy file ảnh nguồn: {source_image_path}\")\n",
    "        continue\n",
    "\n",
    "    # 3. Chuẩn bị cho việc chuyển đổi tọa độ\n",
    "    label_filename = source_image_path.stem + '.txt'\n",
    "    label_filepath = labels_dir / label_filename\n",
    "    \n",
    "    bbox = floor.bounding_box\n",
    "    geom_width = bbox.xmax - bbox.xmin\n",
    "    geom_height = bbox.ymax - bbox.ymin\n",
    "\n",
    "    angle = floor.mutator_angle\n",
    "    scale_x = floor.mutator_scale_x\n",
    "    scale_y = floor.mutator_scale_y\n",
    "    \n",
    "    # Kiểm tra để tránh lỗi chia cho 0\n",
    "    if geom_width == 0 or geom_height == 0:\n",
    "        continue\n",
    "\n",
    "    # 4. Tạo file label với tọa độ đã chuyển đổi\n",
    "    with open(label_filepath, 'w') as f_out:\n",
    "        for rect_obj in floor.rect:\n",
    "            polygon_points = rect_obj.points\n",
    "            if not polygon_points or len(polygon_points) < 3:\n",
    "                continue\n",
    "            \n",
    "            # TODO: Tùy chỉnh logic gán lớp tại đây nếu cần\n",
    "            class_index = CLASS_MAP['wall']\n",
    "            \n",
    "            # Áp dụng công thức chuyển đổi chính xác\n",
    "            transformed_and_normalized_points = []\n",
    "            for point in polygon_points:\n",
    "                # --- BƯỚC BIẾN ĐỔI TỌA ĐỘ ---\n",
    "                p_geom = GeomPoint2D(point.x, point.y)\n",
    "                \n",
    "                # 1. Áp dụng phép xoay\n",
    "                p_geom.rotate(GeomPoint2D(0, 0), angle)\n",
    "                \n",
    "                # 2. Áp dụng phép lật/co giãn\n",
    "                p_geom.x *= scale_x\n",
    "                p_geom.y *= scale_y\n",
    "                # --- KẾT THÚC BIẾN ĐỔI ---\n",
    "\n",
    "                # `p_geom` bây giờ đã ở cùng hệ quy chiếu với `bbox`\n",
    "                \n",
    "                # 3. Chuẩn hóa điểm đã biến đổi\n",
    "                x_norm = (p_geom.x - bbox.xmin) / geom_width\n",
    "                y_norm = (bbox.ymax - p_geom.y) / geom_height\n",
    "                \n",
    "                # Giới hạn giá trị trong khoảng [0, 1] để đảm bảo an toàn\n",
    "                x_norm = max(0.0, min(1.0, x_norm))\n",
    "                y_norm = max(0.0, min(1.0, y_norm))\n",
    "                \n",
    "                transformed_and_normalized_points.extend([x_norm, y_norm])\n",
    "            \n",
    "            points_str = \" \".join(f\"{p:.6f}\" for p in transformed_and_normalized_points)\n",
    "            \n",
    "            # normalized_points = []\n",
    "            # for point in polygon_points:\n",
    "            #     # Ánh xạ vị trí tương đối của điểm trong bounding_box ra ảnh\n",
    "            #     x_norm = (point.x - bbox.xmin) / geom_width\n",
    "\n",
    "            #     # Đảo ngược trục Y, đã được xác nhận qua sy = -floor.mutator_scale_y\n",
    "            #     y_norm = (bbox.ymax - point.y) / geom_height\n",
    "                \n",
    "            #     # Giới hạn giá trị trong khoảng [0, 1] để đảm bảo an toàn\n",
    "            #     x_norm = max(0.0, min(1.0, x_norm))\n",
    "            #     y_norm = max(0.0, min(1.0, y_norm))\n",
    "                \n",
    "            #     normalized_points.extend([x_norm, y_norm])\n",
    "            \n",
    "            # points_str = \" \".join(f\"{p:.6f}\" for p in normalized_points)\n",
    "            f_out.write(f\"{class_index} {points_str}\\n\")\n",
    "\n",
    "print(f\"\\n✅ Hoàn tất chuyển đổi và sao chép {len(floors)} ảnh.\")"
   ]
  },
  {
   "cell_type": "code",
   "execution_count": 16,
   "id": "a37b5068-a2f1-459a-89c1-89b44262dc34",
   "metadata": {},
   "outputs": [],
   "source": [
    "def create_yaml_file(dataset_root_path, image_folder_name):\n",
    "    \"\"\"Tạo file data.yaml cần thiết cho việc huấn luyện YOLO.\"\"\"\n",
    "    names = sorted(CLASS_MAP, key=CLASS_MAP.get)\n",
    "    \n",
    "    # Giả định bạn sẽ tự chia train/val sau\n",
    "    data_yaml = {\n",
    "        'path': str(dataset_root_path.resolve()),\n",
    "        'train': f'{image_folder_name}/train', # Gợi ý cấu trúc\n",
    "        'val': f'{image_folder_name}/val',     # Gợi ý cấu trúc\n",
    "        'names': names\n",
    "    }\n",
    "    \n",
    "    yaml_path = dataset_root_path / 'data.yaml'\n",
    "    with open(yaml_path, 'w') as f:\n",
    "        yaml.dump(data_yaml, f, sort_keys=False, default_flow_style=False)\n",
    "        \n",
    "    print(f\"👍 Đã tạo file cấu hình: {yaml_path.resolve()}\")\n",
    "    print(\"-\" * 30)\n",
    "    print(\"🎉 Dataset YOLO của bạn đã sẵn sàng!\")"
   ]
  },
  {
   "cell_type": "code",
   "execution_count": 17,
   "id": "035e39eb-e7d0-4418-b9db-6b00e173b795",
   "metadata": {},
   "outputs": [
    {
     "name": "stdout",
     "output_type": "stream",
     "text": [
      "👍 Đã tạo file cấu hình: /mnt/c/Users/admin/source/repos/agent-proj/MLSTRUCT/MLSTRUCT-FP/damage_dataset/data.yaml\n",
      "------------------------------\n",
      "🎉 Dataset YOLO của bạn đã sẵn sàng!\n"
     ]
    }
   ],
   "source": [
    "create_yaml_file(dataset_root, images_dir.name)"
   ]
  },
  {
   "cell_type": "code",
   "execution_count": 18,
   "id": "18adaae1-d594-411d-9132-42fef15a9510",
   "metadata": {},
   "outputs": [],
   "source": [
    "import os\n",
    "import random\n",
    "import yaml\n",
    "from pathlib import Path\n",
    "from PIL import Image\n",
    "import matplotlib.pyplot as plt\n",
    "import matplotlib.patches as patches"
   ]
  },
  {
   "cell_type": "code",
   "execution_count": 19,
   "id": "e5878bf7-9bc4-4853-bd5a-abbafa23fb78",
   "metadata": {},
   "outputs": [],
   "source": [
    "# =================================================================================\n",
    "# --- 1. PHẦN CẤU HÌNH (VUI LÒNG CHỈNH SỬA) ---\n",
    "# =================================================================================\n",
    "\n",
    "# Thư mục gốc của bộ dataset YOLO đã tạo (chứa file data.yaml)\n",
    "OUTPUT_DATASET_DIR = 'damage_dataset'\n",
    "\n",
    "# Tên file ảnh cụ thể bạn muốn visualize (để trống sẽ chọn ngẫu nhiên)\n",
    "# Ví dụ: 'e1e91e38488e108879ac7e98ae91a28888acfe9e.png'\n",
    "SPECIFIC_IMAGE_NAME = ''\n",
    "\n",
    "# =================================================================================\n",
    "# --- 2. SCRIPT TRỰC QUAN HÓA (KHÔNG CẦN CHỈNH SỬA) ---\n",
    "# =================================================================================\n"
   ]
  },
  {
   "cell_type": "code",
   "execution_count": 20,
   "id": "0a1c4ee9-325b-4c00-a444-ed8216fbffc9",
   "metadata": {},
   "outputs": [],
   "source": [
    "def visualize_yolo_segmentation(dataset_dir: Path, image_name: str):\n",
    "    \"\"\"\n",
    "    Đọc một ảnh và file label YOLO tương ứng, sau đó vẽ các polygon lên ảnh.\n",
    "    \n",
    "    Args:\n",
    "        dataset_dir (Path): Đường dẫn tới thư mục gốc của dataset.\n",
    "        image_name (str): Tên file ảnh cần visualize.\n",
    "    \"\"\"\n",
    "    images_dir = dataset_dir / 'images'\n",
    "    labels_dir = dataset_dir / 'labels'\n",
    "    yaml_path = dataset_dir / 'data.yaml'\n",
    "    \n",
    "    # --- 1. Tải thông tin từ file YAML ---\n",
    "    class_names = []\n",
    "    if yaml_path.is_file():\n",
    "        with open(yaml_path, 'r') as f:\n",
    "            data_yaml = yaml.safe_load(f)\n",
    "            class_names = data_yaml.get('names', [])\n",
    "    \n",
    "    # --- 2. Kiểm tra và tải ảnh ---\n",
    "    image_path = images_dir / image_name\n",
    "    label_path = labels_dir / (image_path.stem + '.txt')\n",
    "\n",
    "    if not image_path.is_file():\n",
    "        print(f\"❌ Lỗi: Không tìm thấy file ảnh: {image_path}\")\n",
    "        return\n",
    "        \n",
    "    img = Image.open(image_path)\n",
    "    img_width, img_height = img.size\n",
    "    \n",
    "    print(f\"🖼️ Đang visualize ảnh: {image_name} (Kích thước: {img_width}x{img_height})\")\n",
    "\n",
    "    # --- 3. Thiết lập Matplotlib plot ---\n",
    "    fig, ax = plt.subplots(1, figsize=(12, 8))\n",
    "    ax.imshow(img)\n",
    "    \n",
    "    # --- 4. Đọc và vẽ các polygon từ file label ---\n",
    "    if not label_path.is_file():\n",
    "        print(f\"⚠️ Cảnh báo: Không tìm thấy file label cho ảnh này: {label_path}\")\n",
    "    else:\n",
    "        with open(label_path, 'r') as f:\n",
    "            for line in f:\n",
    "                parts = line.strip().split()\n",
    "                if len(parts) < 7:  # Phải có ít nhất class_id + 3 điểm (6 tọa độ)\n",
    "                    continue\n",
    "\n",
    "                class_id = int(parts[0])\n",
    "                # Lấy tên class nếu có, nếu không thì dùng ID\n",
    "                class_name = class_names[class_id] if class_id < len(class_names) else f\"ID:{class_id}\"\n",
    "                \n",
    "                # Giải chuẩn hóa tọa độ\n",
    "                normalized_coords = [float(p) for p in parts[1:]]\n",
    "                pixel_coords = []\n",
    "                for i in range(0, len(normalized_coords), 2):\n",
    "                    x_norm = normalized_coords[i]\n",
    "                    y_norm = normalized_coords[i+1]\n",
    "                    x_pixel = x_norm * img_width\n",
    "                    y_pixel = y_norm * img_height\n",
    "                    pixel_coords.append((x_pixel, y_pixel))\n",
    "\n",
    "                # Tạo và vẽ polygon\n",
    "                # Chọn màu ngẫu nhiên cho mỗi lớp để dễ phân biệt\n",
    "                color = plt.cm.get_cmap('hsv', len(class_names) or 1)(class_id)\n",
    "                poly = patches.Polygon(\n",
    "                    pixel_coords, \n",
    "                    closed=True, \n",
    "                    edgecolor=color, \n",
    "                    facecolor=color, \n",
    "                    linewidth=2, \n",
    "                    alpha=0.4  # Độ trong suốt để nhìn được ảnh bên dưới\n",
    "                )\n",
    "                ax.add_patch(poly)\n",
    "                \n",
    "                # Ghi tên class lên trên polygon\n",
    "                # Vị trí text là điểm đầu tiên của polygon\n",
    "                plt.text(\n",
    "                    pixel_coords[0][0], \n",
    "                    pixel_coords[0][1] - 10, # Dịch lên trên 10px\n",
    "                    class_name, \n",
    "                    color='white', \n",
    "                    fontsize=8,\n",
    "                    bbox=dict(facecolor=color, alpha=0.7, edgecolor='none', pad=1)\n",
    "                )\n",
    "\n",
    "    # --- 5. Hiển thị plot ---\n",
    "    ax.axis('off')  # Ẩn các trục tọa độ\n",
    "    plt.title(f'Visualizing: {image_name}')\n",
    "    plt.tight_layout()\n",
    "    plt.show()"
   ]
  },
  {
   "cell_type": "code",
   "execution_count": 21,
   "id": "b2d751f6-b291-49e1-a2c7-b96a51d658d9",
   "metadata": {},
   "outputs": [],
   "source": [
    "dataset_path = Path(OUTPUT_DATASET_DIR)\n",
    "images_path = dataset_path / 'images'"
   ]
  },
  {
   "cell_type": "code",
   "execution_count": 22,
   "id": "8fc97f2f-a56e-46a5-9b8c-a59281f31d7a",
   "metadata": {},
   "outputs": [],
   "source": [
    "# Chọn một ảnh ngẫu nhiên nếu không có ảnh cụ thể nào được chỉ định\n",
    "all_images = [f.name for f in images_path.iterdir() if f.suffix.lower() in ['.png', '.jpg', '.jpeg']]\n",
    "# if not all_images:\n",
    "#     print(f\"❌ Lỗi: Không có file ảnh nào trong thư mục: {images_path}\")\n",
    "# else:\n",
    "#     image_to_show = random.choice(all_images)"
   ]
  },
  {
   "cell_type": "code",
   "execution_count": 23,
   "id": "218cf7e0-4a02-4850-9b6a-f172aed5d7bc",
   "metadata": {},
   "outputs": [
    {
     "data": {
      "text/plain": [
       "['2cb0cff60c42d1df4f4607b2ccb7570b0464f29e.png',\n",
       " '77843cf5371192ea031e062548dacc674b935257.png',\n",
       " '7db3095482d5943ce42bcd476a117638d9c875d7.png',\n",
       " '8888a588a962b82fc219e30cc33e5a6c8dfce8b2.png',\n",
       " 'e1e91e38488e108879ac7e98ae91a28888acfe9e.png',\n",
       " 'f23ccf42b9c42bfe7c37a1fb7a1ea100e3d34596.png',\n",
       " 'P26620_H14-3_BLD.png']"
      ]
     },
     "execution_count": 23,
     "metadata": {},
     "output_type": "execute_result"
    }
   ],
   "source": [
    "all_images"
   ]
  },
  {
   "cell_type": "code",
   "execution_count": 24,
   "id": "a3ababe5-decc-4707-bfcd-efa5fab9280a",
   "metadata": {},
   "outputs": [],
   "source": [
    "image_to_show = all_images[1]"
   ]
  },
  {
   "cell_type": "code",
   "execution_count": 25,
   "id": "fc738904-576d-47c1-837c-6baea5d7327b",
   "metadata": {},
   "outputs": [
    {
     "name": "stdout",
     "output_type": "stream",
     "text": [
      "🖼️ Đang visualize ảnh: 77843cf5371192ea031e062548dacc674b935257.png (Kích thước: 9600x6784)\n"
     ]
    },
    {
     "name": "stderr",
     "output_type": "stream",
     "text": [
      "/tmp/ipykernel_22052/1950299056.py:63: MatplotlibDeprecationWarning: The get_cmap function was deprecated in Matplotlib 3.7 and will be removed in 3.11. Use ``matplotlib.colormaps[name]`` or ``matplotlib.colormaps.get_cmap()`` or ``pyplot.get_cmap()`` instead.\n",
      "  color = plt.cm.get_cmap('hsv', len(class_names) or 1)(class_id)\n"
     ]
    },
    {
     "data": {
      "image/png": "[encoded data removed]",
      "text/plain": [
       "<Figure size 1200x800 with 1 Axes>"
      ]
     },
     "metadata": {},
     "output_type": "display_data"
    }
   ],
   "source": [
    "visualize_yolo_segmentation(dataset_path, image_to_show)"
   ]
  },
  {
   "cell_type": "code",
   "execution_count": null,
   "id": "ff201cfd-7e0c-4bd1-b5c6-760da1904920",
   "metadata": {},
   "outputs": [],
   "source": []
  },
  {
   "cell_type": "code",
   "execution_count": null,
   "id": "e31b3b77-e89b-41a2-af16-8eab3bf71e18",
   "metadata": {},
   "outputs": [],
   "source": []
  },
  {
   "cell_type": "code",
   "execution_count": null,
   "id": "5993da64-6a77-446a-acfd-6ea1153d9f43",
   "metadata": {},
   "outputs": [],
   "source": []
  }
 ],
 "metadata": {
  "kernelspec": {
   "display_name": "Python 3 (ipykernel)",
   "language": "python",
   "name": "python3"
  },
  "language_info": {
   "codemirror_mode": {
    "name": "ipython",
    "version": 3
   },
   "file_extension": ".py",
   "mimetype": "text/x-python",
   "name": "python",
   "nbconvert_exporter": "python",
   "pygments_lexer": "ipython3",
   "version": "3.12.11"
  }
 },
 "nbformat": 4,
 "nbformat_minor": 5
}
