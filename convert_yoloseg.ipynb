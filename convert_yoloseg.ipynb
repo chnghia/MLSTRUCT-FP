{
 "cells": [
  {
   "cell_type": "code",
   "execution_count": 11,
   "id": "18acfb3e-4441-4547-81da-6a38304d3a24",
   "metadata": {},
   "outputs": [],
   "source": [
    "import os\n",
    "from MLStructFP.db import DbLoader\n",
    "from MLStructFP.db.image import *\n",
    "from tqdm import tqdm"
   ]
  },
  {
   "cell_type": "code",
   "execution_count": 2,
   "id": "7a433090-0ea1-4447-a343-2b80aa0bf487",
   "metadata": {},
   "outputs": [],
   "source": [
    "# --- 1. Cấu hình ---\n",
    "# Đường dẫn tới dataset gốc của bạn (nơi chứa file 'db.json')\n",
    "DB_PATH = 'test/data/fp.json'  # Thay đổi thành đường dẫn thực tế của bạn\n",
    "# Thư mục để lưu các file label .txt đã chuyển đổi\n",
    "OUTPUT_DIR = './yolo_segmentation_labels/'\n",
    "# Ánh xạ tên lớp sang chỉ số (integer). BẮT BUỘC phải bắt đầu từ 0\n",
    "CLASS_MAP = {\n",
    "    # Ví dụ:\n",
    "    'c_1_1': 0,\n",
    "    'c_1_2': 1,\n",
    "    'c_2_1': 2,\n",
    "    'c_2_2': 3,\n",
    "    'c_3_1': 4,\n",
    "    'c_3_2': 5,\n",
    "    'c_4_1': 6,\n",
    "    'c_4_2': 7,\n",
    "    # Thêm các lớp khác của bạn vào đây\n",
    "}"
   ]
  },
  {
   "cell_type": "code",
   "execution_count": 3,
   "id": "2eaac1eb-69b8-4694-b8ac-ab15c5ae8cf0",
   "metadata": {},
   "outputs": [],
   "source": [
    "# Tạo thư mục output nếu chưa tồn tại\n",
    "os.makedirs(OUTPUT_DIR, exist_ok=True)"
   ]
  },
  {
   "cell_type": "code",
   "execution_count": 4,
   "id": "64b91aee-d71f-4d2f-84a1-71098c6956a9",
   "metadata": {},
   "outputs": [],
   "source": [
    "# Khởi tạo DbLoader\n",
    "# filter_images=False để đảm bảo loader đọc tất cả ảnh\n",
    "db_loader = DbLoader(DB_PATH)"
   ]
  },
  {
   "cell_type": "code",
   "execution_count": 5,
   "id": "2307ba85-510e-4f76-a6b5-14ac5953facf",
   "metadata": {},
   "outputs": [
    {
     "data": {
      "text/html": [
       "<table>\n",
       "<thead>\n",
       "<tr><th style=\"text-align: center;\"> # </th><th style=\"text-align: center;\"> Project ID </th><th style=\"text-align: center;\"> Project label </th><th style=\"text-align: center;\"> Floor ID </th><th style=\"text-align: center;\"> Cat </th><th style=\"text-align: center;\"> Elev </th><th style=\"text-align: center;\"> Rects </th><th style=\"text-align: center;\"> Points </th><th style=\"text-align: center;\"> Slabs </th><th style=\"text-align: center;\"> Rooms </th><th style=\"text-align: center;\"> Items </th><th style=\"text-align: center;\">              Floor image path              </th></tr>\n",
       "</thead>\n",
       "<tbody>\n",
       "<tr><td style=\"text-align: center;\"> 0 </td><td style=\"text-align: center;\">     -1     </td><td style=\"text-align: center;\">               </td><td style=\"text-align: center;\">   1058   </td><td style=\"text-align: center;\">  0  </td><td style=\"text-align: center;\">  0   </td><td style=\"text-align: center;\">  57   </td><td style=\"text-align: center;\">   0    </td><td style=\"text-align: center;\">   1   </td><td style=\"text-align: center;\">   0   </td><td style=\"text-align: center;\">   0   </td><td style=\"text-align: center;\">2cb0cff60c42d1df4f4607b2ccb7570b0464f29e.png</td></tr>\n",
       "<tr><td style=\"text-align: center;\"> 1 </td><td style=\"text-align: center;\">     -1     </td><td style=\"text-align: center;\">               </td><td style=\"text-align: center;\">   1059   </td><td style=\"text-align: center;\">  0  </td><td style=\"text-align: center;\">  0   </td><td style=\"text-align: center;\">  50   </td><td style=\"text-align: center;\">   0    </td><td style=\"text-align: center;\">   1   </td><td style=\"text-align: center;\">   0   </td><td style=\"text-align: center;\">   0   </td><td style=\"text-align: center;\">e1e91e38488e108879ac7e98ae91a28888acfe9e.png</td></tr>\n",
       "<tr><td style=\"text-align: center;\"> 2 </td><td style=\"text-align: center;\">     -1     </td><td style=\"text-align: center;\">               </td><td style=\"text-align: center;\">   1060   </td><td style=\"text-align: center;\">  0  </td><td style=\"text-align: center;\">  0   </td><td style=\"text-align: center;\">  50   </td><td style=\"text-align: center;\">   0    </td><td style=\"text-align: center;\">   1   </td><td style=\"text-align: center;\">   0   </td><td style=\"text-align: center;\">   0   </td><td style=\"text-align: center;\">e1e91e38488e108879ac7e98ae91a28888acfe9e.png</td></tr>\n",
       "<tr><td style=\"text-align: center;\"> 3 </td><td style=\"text-align: center;\">     -1     </td><td style=\"text-align: center;\">               </td><td style=\"text-align: center;\">   302    </td><td style=\"text-align: center;\">  0  </td><td style=\"text-align: center;\">  0   </td><td style=\"text-align: center;\">  80   </td><td style=\"text-align: center;\">   0    </td><td style=\"text-align: center;\">   1   </td><td style=\"text-align: center;\">   0   </td><td style=\"text-align: center;\">   0   </td><td style=\"text-align: center;\">f23ccf42b9c42bfe7c37a1fb7a1ea100e3d34596.png</td></tr>\n",
       "<tr><td style=\"text-align: center;\"> 4 </td><td style=\"text-align: center;\">     -1     </td><td style=\"text-align: center;\">               </td><td style=\"text-align: center;\">   748    </td><td style=\"text-align: center;\">  0  </td><td style=\"text-align: center;\">  0   </td><td style=\"text-align: center;\">  39   </td><td style=\"text-align: center;\">   0    </td><td style=\"text-align: center;\">   1   </td><td style=\"text-align: center;\">   0   </td><td style=\"text-align: center;\">   0   </td><td style=\"text-align: center;\">7db3095482d5943ce42bcd476a117638d9c875d7.png</td></tr>\n",
       "<tr><td style=\"text-align: center;\"> 5 </td><td style=\"text-align: center;\">     -1     </td><td style=\"text-align: center;\">               </td><td style=\"text-align: center;\">   848    </td><td style=\"text-align: center;\">  0  </td><td style=\"text-align: center;\">  0   </td><td style=\"text-align: center;\">  80   </td><td style=\"text-align: center;\">   0    </td><td style=\"text-align: center;\">   1   </td><td style=\"text-align: center;\">   0   </td><td style=\"text-align: center;\">   0   </td><td style=\"text-align: center;\">77843cf5371192ea031e062548dacc674b935257.png</td></tr>\n",
       "<tr><td style=\"text-align: center;\"> 6 </td><td style=\"text-align: center;\">     -1     </td><td style=\"text-align: center;\">               </td><td style=\"text-align: center;\">   966    </td><td style=\"text-align: center;\">  0  </td><td style=\"text-align: center;\">  0   </td><td style=\"text-align: center;\">  28   </td><td style=\"text-align: center;\">   0    </td><td style=\"text-align: center;\">   1   </td><td style=\"text-align: center;\">   0   </td><td style=\"text-align: center;\">   0   </td><td style=\"text-align: center;\">8888a588a962b82fc219e30cc33e5a6c8dfce8b2.png</td></tr>\n",
       "<tr><td style=\"text-align: center;\"> 7 </td><td style=\"text-align: center;\">     -1     </td><td style=\"text-align: center;\">               </td><td style=\"text-align: center;\">   2000   </td><td style=\"text-align: center;\">  0  </td><td style=\"text-align: center;\">  0   </td><td style=\"text-align: center;\">   1   </td><td style=\"text-align: center;\">   0    </td><td style=\"text-align: center;\">   1   </td><td style=\"text-align: center;\">   0   </td><td style=\"text-align: center;\">   0   </td><td style=\"text-align: center;\">            P26620_H14-3_BLD.png            </td></tr>\n",
       "</tbody>\n",
       "</table>"
      ],
      "text/plain": [
       "<IPython.core.display.HTML object>"
      ]
     },
     "metadata": {},
     "output_type": "display_data"
    }
   ],
   "source": [
    "db_loader.tabulate()"
   ]
  },
  {
   "cell_type": "code",
   "execution_count": 6,
   "id": "e8f70749-66b1-4524-9d08-85727e8fe858",
   "metadata": {},
   "outputs": [
    {
     "data": {
      "text/plain": [
       "8"
      ]
     },
     "execution_count": 6,
     "metadata": {},
     "output_type": "execute_result"
    }
   ],
   "source": [
    "len(db_loader.floors)"
   ]
  },
  {
   "cell_type": "code",
   "execution_count": 7,
   "id": "53813f25-674c-4237-8c32-d12745e13369",
   "metadata": {},
   "outputs": [
    {
     "data": {
      "text/plain": [
       "1058"
      ]
     },
     "execution_count": 7,
     "metadata": {},
     "output_type": "execute_result"
    }
   ],
   "source": [
    "db_loader.floors[0].id"
   ]
  },
  {
   "cell_type": "code",
   "execution_count": 8,
   "id": "709d4166-6492-4293-aeb4-9ab21b01e4a4",
   "metadata": {},
   "outputs": [
    {
     "data": {
      "text/plain": [
       "<MLStructFP.db._floor.Floor at 0x72c2699c8e60>"
      ]
     },
     "execution_count": 8,
     "metadata": {},
     "output_type": "execute_result"
    }
   ],
   "source": [
    "db_loader[1058]"
   ]
  },
  {
   "cell_type": "code",
   "execution_count": 14,
   "id": "2e4f9814-a59c-44ac-9b80-022612da7ad9",
   "metadata": {},
   "outputs": [
    {
     "ename": "TypeError",
     "evalue": "'Floor' object is not iterable",
     "output_type": "error",
     "traceback": [
      "\u001b[31m---------------------------------------------------------------------------\u001b[39m",
      "\u001b[31mTypeError\u001b[39m                                 Traceback (most recent call last)",
      "\u001b[36mCell\u001b[39m\u001b[36m \u001b[39m\u001b[32mIn[14]\u001b[39m\u001b[32m, line 8\u001b[39m\n\u001b[32m      5\u001b[39m floor = db_loader.floors[i]  \u001b[38;5;66;03m# Lấy đối tượng Floor\u001b[39;00m\n\u001b[32m      7\u001b[39m \u001b[38;5;66;03m# Bây giờ lặp qua từng ảnh (item) bên trong Floor\u001b[39;00m\n\u001b[32m----> \u001b[39m\u001b[32m8\u001b[39m \u001b[43m\u001b[49m\u001b[38;5;28;43;01mfor\u001b[39;49;00m\u001b[43m \u001b[49m\u001b[43mitem\u001b[49m\u001b[43m \u001b[49m\u001b[38;5;129;43;01min\u001b[39;49;00m\u001b[43m \u001b[49m\u001b[43mfloor\u001b[49m\u001b[43m:\u001b[49m\n\u001b[32m      9\u001b[39m \u001b[43m    \u001b[49m\u001b[38;5;66;43;03m# `item` là một dictionary chứa thông tin ảnh\u001b[39;49;00m\n\u001b[32m     10\u001b[39m \u001b[43m    \u001b[49m\u001b[43mimage_path\u001b[49m\u001b[43m \u001b[49m\u001b[43m=\u001b[49m\u001b[43m \u001b[49m\u001b[43mitem\u001b[49m\u001b[43m.\u001b[49m\u001b[43mget\u001b[49m\u001b[43m(\u001b[49m\u001b[33;43m'\u001b[39;49m\u001b[33;43mimage\u001b[39;49m\u001b[33;43m'\u001b[39;49m\u001b[43m)\u001b[49m\n\u001b[32m     11\u001b[39m \u001b[43m    \u001b[49m\u001b[43mimg_width\u001b[49m\u001b[43m \u001b[49m\u001b[43m=\u001b[49m\u001b[43m \u001b[49m\u001b[43mitem\u001b[49m\u001b[43m.\u001b[49m\u001b[43mget\u001b[49m\u001b[43m(\u001b[49m\u001b[33;43m'\u001b[39;49m\u001b[33;43mwidth\u001b[39;49m\u001b[33;43m'\u001b[39;49m\u001b[43m)\u001b[49m\n",
      "\u001b[31mTypeError\u001b[39m: 'Floor' object is not iterable"
     ]
    }
   ],
   "source": [
    "image_count = 0\n",
    "# ✨ ĐÂY LÀ PHẦN SỬA LỖI QUAN TRỌNG ✨\n",
    "# Lặp qua từng tầng (floor) bằng chỉ số\n",
    "for i in range(len(db_loader.floors)):\n",
    "    floor = db_loader.floors[i]  # Lấy đối tượng Floor\n",
    "    \n",
    "    # Bây giờ lặp qua từng ảnh (item) bên trong Floor\n",
    "    for item in floor:\n",
    "        # `item` là một dictionary chứa thông tin ảnh\n",
    "        image_path = item.get('image')\n",
    "        img_width = item.get('width')\n",
    "        img_height = item.get('height')\n",
    "        annotations = item.get('object', [])\n",
    "        print(image_path)"
   ]
  },
  {
   "cell_type": "code",
   "execution_count": null,
   "id": "61a917a0-fead-4d03-9216-6c24f4947804",
   "metadata": {},
   "outputs": [],
   "source": [
    "\n",
    "\n",
    "# --- 2. Khởi tạo và thực thi ---\n",
    "def convert_to_yolo_segmentation():\n",
    "    \"\"\"\n",
    "    Tải dữ liệu từ DbLoader và chuyển đổi annotations sang định dạng\n",
    "    YOLO segmentation.\n",
    "    \"\"\"\n",
    "    print(\"Bắt đầu quá trình chuyển đổi...\")\n",
    "    \n",
    "\n",
    "\n",
    "if __name__ == '__main__':\n",
    "    convert_to_yolo_segmentation()"
   ]
  },
  {
   "cell_type": "code",
   "execution_count": null,
   "id": "36b18196-78c2-4fac-a682-2211e377bba6",
   "metadata": {},
   "outputs": [],
   "source": []
  },
  {
   "cell_type": "code",
   "execution_count": null,
   "id": "1f9a6c44-4e86-4191-9d36-eaec76836ba5",
   "metadata": {},
   "outputs": [],
   "source": []
  }
 ],
 "metadata": {
  "kernelspec": {
   "display_name": "Python 3 (ipykernel)",
   "language": "python",
   "name": "python3"
  },
  "language_info": {
   "codemirror_mode": {
    "name": "ipython",
    "version": 3
   },
   "file_extension": ".py",
   "mimetype": "text/x-python",
   "name": "python",
   "nbconvert_exporter": "python",
   "pygments_lexer": "ipython3",
   "version": "3.12.11"
  }
 },
 "nbformat": 4,
 "nbformat_minor": 5
}
